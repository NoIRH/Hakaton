{
 "cells": [
  {
   "cell_type": "code",
   "execution_count": 4,
   "metadata": {},
   "outputs": [],
   "source": [
    "import cv2\n",
    "import torch, torchvision\n",
    "\n",
    "cap = cv2.VideoCapture('C2024-04-08-14-00-37-01.mp4')\n",
    "backSub = cv2.createBackgroundSubtractorMOG2()\n",
    "if not cap.isOpened():\n",
    "    print(\"Error opening video file\")\n",
    "while cap.isOpened():\n",
    "    ret, frame = cap.read()\n",
    "    if ret:\n",
    "        fg_mask = backSub.apply(frame)\n",
    "        retval, mask_thresh = cv2.threshold( fg_mask, 180, 255, cv2.THRESH_BINARY)\n",
    "        # Поиск контура\n",
    "        contours, hierarchy = cv2.findContours(fg_mask, cv2.RETR_EXTERNAL, cv2.CHAIN_APPROX_SIMPLE)\n",
    "        # print(contours)\n",
    "        frame_ct = cv2.drawContours(frame, contours, -1, (0, 255, 0), 2)\n",
    "        # показать итоговый кадр\n",
    "        cv2.imshow('Frame_final', frame_ct)\n",
    "    if cv2.waitKey(1) & 0xFF == ord(\"q\"):\n",
    "            break\n",
    "cap.release()\n",
    "cv2.destroyAllWindows()"
   ]
  }
 ],
 "metadata": {
  "kernelspec": {
   "display_name": "base",
   "language": "python",
   "name": "python3"
  },
  "language_info": {
   "codemirror_mode": {
    "name": "ipython",
    "version": 3
   },
   "file_extension": ".py",
   "mimetype": "text/x-python",
   "name": "python",
   "nbconvert_exporter": "python",
   "pygments_lexer": "ipython3",
   "version": "3.10.14"
  }
 },
 "nbformat": 4,
 "nbformat_minor": 2
}
